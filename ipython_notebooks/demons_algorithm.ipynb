{
 "cells": [
  {
   "cell_type": "code",
   "execution_count": 2,
   "metadata": {
    "scrolled": true
   },
   "outputs": [],
   "source": [
    "# Import general packages.\n",
    "\n",
    "import tensorflow as tf\n",
    "import numpy as np\n",
    "import os\n",
    "import matplotlib.pyplot as plt\n",
    "import time\n",
    "from typing import List\n",
    "from skimage import exposure\n",
    "\n",
    "tfe = tf.contrib.eager\n",
    "\n",
    "tf.enable_eager_execution()"
   ]
  },
  {
   "cell_type": "code",
   "execution_count": 3,
   "metadata": {},
   "outputs": [],
   "source": [
    "# Import project libraries.\n",
    "\n",
    "import sys\n",
    "sys.path.insert(0, '/Users/noah/Documents/CHU/Ultrasound/lib/')\n",
    "\n",
    "from image_registration import loss_utils\n",
    "from image_registration import load_image\n",
    "from image_registration import warp\n",
    "from image_registration import elastic_image\n",
    "from image_registration import warp_utils\n",
    "from image_registration import rigid_registration\n",
    "from image_registration import elastic_image_utils\n",
    "\n",
    "from image_utils import visualization_utils\n",
    "\n",
    "\n"
   ]
  },
  {
   "cell_type": "code",
   "execution_count": 4,
   "metadata": {
    "scrolled": true
   },
   "outputs": [
    {
     "name": "stdout",
     "output_type": "stream",
     "text": [
      "(9, 623, 512)\n"
     ]
    }
   ],
   "source": [
    "dataset_path = \"/Users/noah/Documents/CHU/Ultrasound/raw_data/heart_rotation\"\n",
    "\n",
    "save_dir = \"/Users/noah/Documents/CHU/Ultrasound/experiment_results/9_17_registration\"\n",
    "\n",
    "if not os.path.exists(save_dir):\n",
    "  os.makedirs(save_dir)\n",
    "\n",
    "images_file = os.path.join(dataset_path, 'raw_images.npy')\n",
    "data_temp = np.load(images_file).astype(np.float32)\n",
    "\n",
    "print(data_temp.shape)\n",
    "\n"
   ]
  },
  {
   "cell_type": "code",
   "execution_count": 5,
   "metadata": {},
   "outputs": [],
   "source": [
    "def load_image_demons(\n",
    "    image: tf.Tensor,\n",
    "    rotation,\n",
    "    translation,\n",
    "):\n",
    "  \"\"\"Creates ElasticImage object with variables for image flow \n",
    "  demons registration.\n",
    "\n",
    "  Args:\n",
    "    image: tf.Tensor of shape [height, width].\n",
    "    initial_non_rigid_values_or_scale: Either a List of intial displacements\n",
    "      control_point grid or a float which parameterizes the scale of random\n",
    "      initialization. See `warp_parameters.make_elastic_warp_variable`.\n",
    "\n",
    "\n",
    "  R\n",
    "  eturns:\n",
    "    ElasticImage object containing image and variables for each\n",
    "    point displacement.\n",
    "  \"\"\"\n",
    "    \n",
    "  xx, yy = np.meshgrid(np.arange(image.shape[0]),\n",
    "                       np.arange(image.shape[1]))\n",
    "\n",
    "  control_points = np.stack([xx, yy], -1)\n",
    "  control_points = np.reshape(control_points, [-1, 2])\n",
    "\n",
    "  control_points = tf.convert_to_tensor(control_points, tf.float32)\n",
    "\n",
    "  return load_image.load_image(image, control_points, rotation, translation, 1.)"
   ]
  },
  {
   "cell_type": "code",
   "execution_count": 6,
   "metadata": {},
   "outputs": [],
   "source": [
    "# add noise to images (may want to do this as layer)\n",
    "def gaussian_noise_layer(input_layer, std):\n",
    "    \"Adds noise > 0\"\n",
    "    noise = tf.truncated_normal(shape=tf.shape(input_layer), mean= 2 * std, stddev=std, dtype=tf.float32) \n",
    "    return input_layer + noise"
   ]
  },
  {
   "cell_type": "code",
   "execution_count": 7,
   "metadata": {},
   "outputs": [],
   "source": [
    "\n",
    "\n",
    "def compare_images(\n",
    "    image_a,\n",
    "    image_b\n",
    "    ):\n",
    "    \n",
    "    image_a_warp = warped_image(image_a, True)\n",
    "    \n",
    "    image_b_warp = warped_image(image_b, True)\n",
    "    image_b_before_registration = warped_image(image_b, False)\n",
    "    \n",
    "    fig, ax = plt.subplots(1,2, figsize=(15,15))\n",
    "    ax[0].imshow(visualization_utils.multiple_intensity_to_rgb(image_a_warp, image_b_before_registration))\n",
    "    ax[1].imshow(visualization_utils.multiple_intensity_to_rgb(image_a_warp, image_b_warp))\n",
    "    fig.savefig(os.path.join(save_dir, \"warped_image\"))\n",
    "\n"
   ]
  },
  {
   "cell_type": "code",
   "execution_count": 8,
   "metadata": {},
   "outputs": [
    {
     "data": {
      "text/plain": [
       "<matplotlib.image.AxesImage at 0x1c2563ba90>"
      ]
     },
     "execution_count": 8,
     "metadata": {},
     "output_type": "execute_result"
    },
    {
     "data": {
      "image/png": "[encoded data removed]",
      "text/plain": [
       "<Figure size 1440x720 with 1 Axes>"
      ]
     },
     "metadata": {},
     "output_type": "display_data"
    }
   ],
   "source": [
    "# 2D Gaussian Kernel\n",
    "def gaussian_kernel(size: int,\n",
    "                    mean: float,\n",
    "                    std: float,\n",
    "                   ):\n",
    "    \"\"\"Makes 2D gaussian Kernel for convolution.\"\"\"\n",
    "\n",
    "    d = tf.distributions.Normal(mean, std)\n",
    "\n",
    "    vals = d.prob(tf.range(start = -size, limit = size + 1, dtype = tf.float32))\n",
    "\n",
    "    gauss_kernel = tf.einsum('i,j->ij',\n",
    "                                  vals,\n",
    "                                  vals)\n",
    "\n",
    "    gauss_kernel = gauss_kernel / tf.reduce_sum(gauss_kernel)\n",
    "    gauss_kernel = tf.stack([gauss_kernel, tf.zeros_like(gauss_kernel)], axis=2)\n",
    "    gauss_kernel = tf.stack([gauss_kernel, gauss_kernel[:, :, ::-1]], axis=3)\n",
    "    return gauss_kernel\n",
    "\n",
    "gauss_kernel = gaussian_kernel(10, 0., 5.)\n",
    "\n",
    "plt.figure(figsize=(20,10))\n",
    "plt.imshow(visualization_utils.multiple_intensity_to_rgb(gauss_kernel[:,:,0,0].numpy()))"
   ]
  },
  {
   "cell_type": "code",
   "execution_count": 9,
   "metadata": {},
   "outputs": [],
   "source": [
    "def _grid_convolve(tensor, correlation_kernel):\n",
    "    \"\"\"Convolves tensor with kernel.\n",
    "\n",
    "    Args:\n",
    "        tensor: Tensor of shape [N, W, H, 2].\n",
    "        correlation_kernel: Kernel to evaluate correlation.  Shape [C, C, 2, 2]\n",
    "\n",
    "    Returns:\n",
    "        convolved: tensor convolved with correlation_kernel\n",
    "    \"\"\"\n",
    "    # Symmetric padding ensures that tensors along the edge are not penalized\n",
    "    pad_size = ( gauss_kernel.shape.as_list()[0] - 1 ) / 2\n",
    "\n",
    "    tensor = tf.pad(tensor, [[0, 0], [pad_size, pad_size], [pad_size, pad_size], [0, 0]], mode=\"SYMMETRIC\")\n",
    "    \n",
    "    return  tf.nn.conv2d(tensor, correlation_kernel, strides=[1, 1, 1, 1], padding=\"VALID\")\n",
    "\n"
   ]
  },
  {
   "cell_type": "code",
   "execution_count": 10,
   "metadata": {},
   "outputs": [],
   "source": [
    "def demons_register(\n",
    "    image_a,\n",
    "    image_b,\n",
    "    num_steps = 20,\n",
    "):\n",
    "    for _ in range(num_steps):\n",
    "        time_step_start = time.time()\n",
    "        # WARP IMAGES\n",
    "\n",
    "        # Moving image.\n",
    "        # warped_values is list of tf.Tensor for each image\n",
    "        warp_values = []\n",
    "\n",
    "        # Demons displacement.\n",
    "        prepared_warp_values = warp_utils.warp_tensor(image_a, True, True, True)\n",
    "\n",
    "        # Reshape for dense warp.\n",
    "        prepared_warp_values[0] = tf.reshape(\n",
    "            prepared_warp_values[0], [image_a.image.shape[0], image_a.image.shape[1], 2])\n",
    "        prepared_warp_values[2] = tf.reshape(\n",
    "            prepared_warp_values[2], [image_a.image.shape[0], image_a.image.shape[1], 2])\n",
    "\n",
    "\n",
    "        [tf.expand_dims(tensor, 0) for tensor in prepared_warp_values]\n",
    "\n",
    "        time_warp_start = time.time()\n",
    "        m = warp.dense_warp(\n",
    "            image_a.image[tf.newaxis, :, :, tf.newaxis], warp_values)\n",
    "\n",
    "        print(\"time to warp {}\".format(time.time() - time_warp_start))\n",
    "\n",
    "\n",
    "        # Stationary Image\n",
    "        s = image_b.image[tf.newaxis, :, :, tf.newaxis]\n",
    "        \n",
    "        time_calculation_start = time.time()\n",
    "        # IMAGE GRADIENTS\n",
    "        dy, dx = tf.image.image_gradients(s)\n",
    "\n",
    "        # imgrad has shape [batch, H, w, C, 2]\n",
    "        imgrad_s = tf.stack([dy, dx], axis = -1)\n",
    "\n",
    "        error = m - s\n",
    "        error = tf.expand_dims(error, -1)\n",
    "\n",
    "        velocity_update = (error * imgrad_s) / (imgrad_s ** 2 + .4 * error ** 2)\n",
    "        velocity_update = tf.reshape(velocity_update, [-1, 2])\n",
    "        print(\"time to compute update {}\".format(time.time() - time_calculation_start))\n",
    "\n",
    "        time_rand = time.time()\n",
    "        image_a.non_rigid.assign_add(velocity_update)\n",
    "\n",
    "        print(\"time to update {}\".format(time.time() - time_rand))\n",
    "\n",
    "\n",
    "        print(\"total time {}\".format(time.time() - time_step_start))\n",
    "\n",
    "\n"
   ]
  },
  {
   "cell_type": "code",
   "execution_count": null,
   "metadata": {
    "scrolled": true
   },
   "outputs": [],
   "source": [
    "list_of_images = [data_temp[slice] for slice in range(data_temp.shape[0])]\n",
    "\n",
    "rotations, translations = rigid_registration.relative_rotation_and_translation(list_of_images, [10.,11.], 1)"
   ]
  },
  {
   "cell_type": "code",
   "execution_count": 11,
   "metadata": {},
   "outputs": [
    {
     "ename": "NameError",
     "evalue": "name 'rotations' is not defined",
     "output_type": "error",
     "traceback": [
      "\u001b[0;31m---------------------------------------------------------------------------\u001b[0m",
      "\u001b[0;31mNameError\u001b[0m                                 Traceback (most recent call last)",
      "\u001b[0;32m<ipython-input-11-16dce09a5b9b>\u001b[0m in \u001b[0;36m<module>\u001b[0;34m()\u001b[0m\n\u001b[1;32m      1\u001b[0m \u001b[0;31m# Append 0 since the first image and translation pair are in the base coordinates.\u001b[0m\u001b[0;34m\u001b[0m\u001b[0;34m\u001b[0m\u001b[0m\n\u001b[0;32m----> 2\u001b[0;31m \u001b[0mrotations\u001b[0m \u001b[0;34m=\u001b[0m \u001b[0;34m[\u001b[0m\u001b[0;36m0.\u001b[0m\u001b[0;34m]\u001b[0m \u001b[0;34m+\u001b[0m \u001b[0mlist\u001b[0m\u001b[0;34m(\u001b[0m\u001b[0mrotations\u001b[0m\u001b[0;34m)\u001b[0m\u001b[0;34m\u001b[0m\u001b[0m\n\u001b[0m\u001b[1;32m      3\u001b[0m \u001b[0;34m\u001b[0m\u001b[0m\n\u001b[1;32m      4\u001b[0m \u001b[0;31m# Calculate running rotation\u001b[0m\u001b[0;34m\u001b[0m\u001b[0;34m\u001b[0m\u001b[0m\n\u001b[1;32m      5\u001b[0m \u001b[0mrunning_rotation\u001b[0m \u001b[0;34m=\u001b[0m \u001b[0mnp\u001b[0m\u001b[0;34m.\u001b[0m\u001b[0mcumsum\u001b[0m\u001b[0;34m(\u001b[0m\u001b[0mrotations\u001b[0m\u001b[0;34m)\u001b[0m\u001b[0;34m\u001b[0m\u001b[0m\n",
      "\u001b[0;31mNameError\u001b[0m: name 'rotations' is not defined"
     ]
    }
   ],
   "source": [
    "# Append 0 since the first image and translation pair are in the base coordinates.\n",
    "rotations = [0.] + list(rotations)\n",
    "\n",
    "# Calculate running rotation\n",
    "running_rotation = np.cumsum(rotations)\n",
    "\n",
    "# We need to correct for the rotation of the coordinate system\n",
    "# with each successive image. In other words, because\n",
    "# the rotation angle is calculated in the coordinates of the\n",
    "# imediately preceding image, we can not just sum the \n",
    "# translations to find the total translation at image i.\n",
    "\n",
    "# Find correction by projecting the translation term\n",
    "# onto coordinates defined by the unning rotation. \n",
    "corrections_to_translation_from_rotation = [\n",
    "    warp_utils.rotate_points(\n",
    "        tf.convert_to_tensor(translation)[tf.newaxis, :],\n",
    "        tf.convert_to_tensor([0., 0.]),\n",
    "        tf.convert_to_tensor(rotation, dtype = tf.float32)\n",
    "    )[0, :].numpy()\n",
    "    for rotation, translation in zip(running_rotation, translations)\n",
    "]\n",
    "\n",
    "# Add corrections to translations.\n",
    "rotation_corrected_translations = [\n",
    "    translation + correction for translation, correction in zip(translations, corrections_to_translation_from_rotation\n",
    "                                                               )\n",
    "]\n",
    "\n",
    "rotation_corrected_translations = [[0,0]] + rotation_corrected_translations\n",
    "\n",
    "# Calculate running translation from corrected terms.\n",
    "running_translation = np.cumsum(rotation_corrected_translations, axis = 0)"
   ]
  },
  {
   "cell_type": "code",
   "execution_count": null,
   "metadata": {
    "scrolled": false
   },
   "outputs": [],
   "source": [
    "# Load images into list.\n",
    "images = [\n",
    "    load_image_demons(\n",
    "        tf.convert_to_tensor(image), running_rotation[image_number], running_translation[image_number])\n",
    "    for image_number, image\n",
    "    in enumerate(list_of_images) \n",
    "]\n",
    "\n",
    "# # Add small pad to fix warping artifacts.\n",
    "# for i in images:\n",
    "#     i.image = tf.pad(i.image, [[1,1], [1, 1]], mode='constant')\n",
    "\n",
    "elastic_image_utils.reduce_rotation(images)\n",
    "elastic_image_utils.reduce_translation(images)"
   ]
  },
  {
   "cell_type": "code",
   "execution_count": null,
   "metadata": {
    "scrolled": true
   },
   "outputs": [],
   "source": [
    "plt.imshow(images[0].image)"
   ]
  },
  {
   "cell_type": "code",
   "execution_count": null,
   "metadata": {
    "scrolled": true
   },
   "outputs": [],
   "source": [
    "images[0].control_points"
   ]
  },
  {
   "cell_type": "code",
   "execution_count": null,
   "metadata": {},
   "outputs": [],
   "source": [
    "images[0].rotation"
   ]
  },
  {
   "cell_type": "code",
   "execution_count": null,
   "metadata": {
    "scrolled": false
   },
   "outputs": [],
   "source": [
    "prepared_warp_values = warp_utils.warp_tensor(images[0], True, True, False)\n",
    "prepared_warp_values[0]"
   ]
  },
  {
   "cell_type": "code",
   "execution_count": 30,
   "metadata": {},
   "outputs": [],
   "source": [
    "def warped_image(\n",
    "    image,\n",
    "    include_non_rigid = False,\n",
    "    log = True\n",
    "    ):\n",
    "    \n",
    "    prepared_warp_values = warp_utils.warp_tensor(image, True, False, include_non_rigid)\n",
    "    \n",
    "    \n",
    "    # Reshape for dense warp.\n",
    "    prepared_warp_values[0] = tf.reshape(\n",
    "        prepared_warp_values[0], [image.image.shape[0], image.image.shape[1], 2])\n",
    "\n",
    "\n",
    "\n",
    "#     prepared_warp_values[2] = tf.reshape(\n",
    "#         prepared_warp_values[2], [image.image.shape[0], image.image.shape[1], 2])\n",
    "\n",
    "    prepared_warp_values = [tf.expand_dims(tensor, 0) for tensor in prepared_warp_values]\n",
    "    \n",
    "    prepared_warp_values = [prepared_warp_values[0]]\n",
    "    \n",
    "    print(prepared_warp_values[0].shape)\n",
    "\n",
    "\n",
    "    \n",
    "    # Perform dense warp.\n",
    "    image_warp = warp.dense_warp(\n",
    "        image.image[tf.newaxis, :, :, tf.newaxis], \n",
    "        prepared_warp_values)\n",
    "\n",
    "    image = prepared_warp_values[0][0, :, :, 0] #image_warp[0, :, :, 0].numpy()\n",
    "    \n",
    "    # Logarithmic adjustment to exposure.\n",
    "    if log:\n",
    "        return exposure.adjust_log(image)\n",
    "    else:\n",
    "        return image\n",
    "\n"
   ]
  },
  {
   "cell_type": "code",
   "execution_count": 22,
   "metadata": {},
   "outputs": [],
   "source": [
    "def warped_image_sparse(\n",
    "    image,\n",
    "    include_non_rigid = False,\n",
    "    log = True\n",
    "    ):\n",
    "    prepared_warp_values = warp_utils.warp_tensor(image, True, True, include_non_rigid)\n",
    "\n",
    "    image_warp, dense_field = warp.sparse_warp(\n",
    "        image.image[tf.newaxis, :, :, tf.newaxis],\n",
    "        image.control_points[tf.newaxis, :, :],\n",
    "        prepared_warp_values, \n",
    "        1.)\n",
    "    \n",
    "    image = dense_field[0, :, :, 0].numpy() ### CHANGED FROM IMAGE TO FIELD.\n",
    "    \n",
    "    if log:\n",
    "        return exposure.adjust_log(image)\n",
    "    else:\n",
    "        return image\n",
    "\n",
    "\n"
   ]
  },
  {
   "cell_type": "code",
   "execution_count": 31,
   "metadata": {},
   "outputs": [],
   "source": [
    "test_image = load_image_demons(np.pad(np.ones([10, 10]), [[3,3], [3,3]], mode = 'constant'), 0., [0,0.])"
   ]
  },
  {
   "cell_type": "code",
   "execution_count": 32,
   "metadata": {
    "scrolled": true
   },
   "outputs": [
    {
     "data": {
      "text/plain": [
       "<tf.Variable 'Variable:0' shape=() dtype=float32, numpy=0.0>"
      ]
     },
     "execution_count": 32,
     "metadata": {},
     "output_type": "execute_result"
    }
   ],
   "source": [
    "test_image.rotation"
   ]
  },
  {
   "cell_type": "code",
   "execution_count": 33,
   "metadata": {
    "scrolled": false
   },
   "outputs": [
    {
     "data": {
      "text/plain": [
       "<tf.Tensor: id=1986, shape=(2,), dtype=float32, numpy=array([8., 8.], dtype=float32)>"
      ]
     },
     "execution_count": 33,
     "metadata": {},
     "output_type": "execute_result"
    }
   ],
   "source": [
    "test_image.center_point"
   ]
  },
  {
   "cell_type": "code",
   "execution_count": 34,
   "metadata": {},
   "outputs": [
    {
     "name": "stdout",
     "output_type": "stream",
     "text": [
      "(1, 16, 16, 2)\n"
     ]
    },
    {
     "data": {
      "text/plain": [
       "<matplotlib.image.AxesImage at 0x1c260650f0>"
      ]
     },
     "execution_count": 34,
     "metadata": {},
     "output_type": "execute_result"
    },
    {
     "data": {
      "image/png": "[encoded data removed]",
      "text/plain": [
       "<Figure size 1080x1080 with 1 Axes>"
      ]
     },
     "metadata": {},
     "output_type": "display_data"
    }
   ],
   "source": [
    "test_image.rotation = tf.convert_to_tensor(50.)\n",
    "\n",
    "plt.figure(figsize=(15,15))\n",
    "# plt.imshow(warped_image_sparse(test_image, False, False))\n",
    "plt.imshow(warped_image(test_image, False, False))"
   ]
  },
  {
   "cell_type": "code",
   "execution_count": null,
   "metadata": {
    "scrolled": true
   },
   "outputs": [],
   "source": [
    "%prun -l 20 -s cumulative demons_register(images[0], images[1])"
   ]
  },
  {
   "cell_type": "code",
   "execution_count": null,
   "metadata": {},
   "outputs": [],
   "source": []
  },
  {
   "cell_type": "code",
   "execution_count": null,
   "metadata": {},
   "outputs": [],
   "source": []
  }
 ],
 "metadata": {
  "kernelspec": {
   "display_name": "Python 3",
   "language": "python",
   "name": "python3"
  },
  "language_info": {
   "codemirror_mode": {
    "name": "ipython",
    "version": 3
   },
   "file_extension": ".py",
   "mimetype": "text/x-python",
   "name": "python",
   "nbconvert_exporter": "python",
   "pygments_lexer": "ipython3",
   "version": "3.6.6"
  }
 },
 "nbformat": 4,
 "nbformat_minor": 2
}
