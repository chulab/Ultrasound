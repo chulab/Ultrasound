{
 "cells": [
  {
   "cell_type": "code",
   "execution_count": 5,
   "metadata": {},
   "outputs": [
    {
     "ename": "ModuleNotFoundError",
     "evalue": "No module named 'image_field'",
     "output_type": "error",
     "traceback": [
      "\u001b[0;31m---------------------------------------------------------------------------\u001b[0m",
      "\u001b[0;31mModuleNotFoundError\u001b[0m                       Traceback (most recent call last)",
      "\u001b[0;32m<ipython-input-5-92b8fba07869>\u001b[0m in \u001b[0;36m<module>\u001b[0;34m()\u001b[0m\n\u001b[1;32m      8\u001b[0m \u001b[0;34m\u001b[0m\u001b[0m\n\u001b[1;32m      9\u001b[0m \u001b[0;32mimport\u001b[0m \u001b[0mloss_utils\u001b[0m\u001b[0;34m\u001b[0m\u001b[0m\n\u001b[0;32m---> 10\u001b[0;31m \u001b[0;32mimport\u001b[0m \u001b[0mimage_field\u001b[0m\u001b[0;34m\u001b[0m\u001b[0m\n\u001b[0m\u001b[1;32m     11\u001b[0m \u001b[0;32mimport\u001b[0m \u001b[0mwarp\u001b[0m\u001b[0;34m\u001b[0m\u001b[0m\n\u001b[1;32m     12\u001b[0m \u001b[0;32mimport\u001b[0m \u001b[0mcontrol_point_utils\u001b[0m\u001b[0;34m\u001b[0m\u001b[0m\n",
      "\u001b[0;31mModuleNotFoundError\u001b[0m: No module named 'image_field'"
     ]
    }
   ],
   "source": [
    "\"\"\"Runs registration algorithm.\"\"\"\n",
    "\n",
    "import tensorflow as tf\n",
    "import numpy as np\n",
    "import os\n",
    "import matplotlib.pyplot as plt\n",
    "import time\n",
    "\n",
    "import loss_utils\n",
    "import image_field\n",
    "import warp\n",
    "import control_point_utils\n",
    "\n",
    "tfe = tf.contrib.eager\n",
    "\n",
    "tf.enable_eager_execution()\n"
   ]
  },
  {
   "cell_type": "code",
   "execution_count": null,
   "metadata": {},
   "outputs": [],
   "source": [
    "import sys\n",
    "sys.path.insert(0, '/Users/noah/Documents/CHU/Ultrasound/lib/image_utils/')\n",
    "\n",
    "import visualization_utils"
   ]
  },
  {
   "cell_type": "code",
   "execution_count": 4,
   "metadata": {},
   "outputs": [
    {
     "ename": "TypeError",
     "evalue": "unsupported operand type(s) for /: 'TensorShape' and 'float'",
     "output_type": "error",
     "traceback": [
      "\u001b[0;31m---------------------------------------------------------------------------\u001b[0m",
      "\u001b[0;31mTypeError\u001b[0m                                 Traceback (most recent call last)",
      "\u001b[0;32m<ipython-input-4-3d802ddb17d6>\u001b[0m in \u001b[0;36m<module>\u001b[0;34m()\u001b[0m\n\u001b[0;32m----> 1\u001b[0;31m \u001b[0mtf\u001b[0m\u001b[0;34m.\u001b[0m\u001b[0mones\u001b[0m\u001b[0;34m(\u001b[0m\u001b[0;34m[\u001b[0m\u001b[0;36m2\u001b[0m\u001b[0;34m]\u001b[0m\u001b[0;34m)\u001b[0m\u001b[0;34m.\u001b[0m\u001b[0mshape\u001b[0m \u001b[0;34m/\u001b[0m \u001b[0;36m3.\u001b[0m\u001b[0;34m\u001b[0m\u001b[0m\n\u001b[0m",
      "\u001b[0;31mTypeError\u001b[0m: unsupported operand type(s) for /: 'TensorShape' and 'float'"
     ]
    }
   ],
   "source": [
    "tf.ones([2]).shape / 3."
   ]
  },
  {
   "cell_type": "code",
   "execution_count": null,
   "metadata": {},
   "outputs": [],
   "source": [
    "dataset_path = \"/Users/noah/Documents/CHU/Ultrasound/raw_data/heart_rotation\"\n",
    "\n",
    "num_steps = 200\n",
    "learning_rate = .5\n",
    "beta = .4\n",
    "beta_2 = .99\n",
    "warp_points = (8, 8)\n",
    "initial_scale = 7.\n",
    "scale_tuner_alpha = 1.2\n",
    "elastic_weight = 1.\n",
    "elastic_weight_scale = 0.25057652344002182\n",
    "\n",
    "save_dir = \"/Users/noah/Documents/CHU/Ultrasound/experiment_results/8_22_registration\"\n",
    "\n",
    "if not os.path.exists(save_dir):\n",
    "  os.makedirs(save_dir)\n",
    "\n",
    "images_file = os.path.join(dataset_path, 'raw_images.npy')\n",
    "data_temp = np.load(images_file).astype(np.float32)\n",
    "\n",
    "print(data_temp.shape)\n"
   ]
  },
  {
   "cell_type": "code",
   "execution_count": null,
   "metadata": {},
   "outputs": [],
   "source": [
    "\n",
    "# Load first two images.\n",
    "image_a = data_temp[0]\n",
    "image_b = data_temp[1]\n",
    "\n",
    "total_size = image_a.shape\n",
    "\n",
    "xx, yy = np.meshgrid(np.linspace(0, data_temp.shape[1], 5),\n",
    "                     np.linspace(0, data_temp.shape[2], 5))\n",
    "\n",
    "control_points = np.stack([xx, yy], -1)\n",
    "control_points = np.reshape(control_points, [-1, 2])\n",
    "\n",
    "control_points = tf.convert_to_tensor(control_points, dtype = tf.float32)\n",
    "\n",
    "image_a = image_field.load_image(image_a, control_points, -10., [-20., 125.], 1.)\n",
    "image_b = image_field.load_image(image_b, control_points, 0., [0., 0.], 1.)\n",
    "\n",
    "center_point = tf.constant([total_size[0] / 2, total_size[1] / 2], dtype=tf.float32)\n",
    "\n",
    "\n"
   ]
  },
  {
   "cell_type": "code",
   "execution_count": null,
   "metadata": {},
   "outputs": [],
   "source": [
    "image_a.get_list_from_variable_dict(\"translation\")"
   ]
  },
  {
   "cell_type": "code",
   "execution_count": null,
   "metadata": {
    "scrolled": false
   },
   "outputs": [],
   "source": [
    "image = image_a.image[tf.newaxis, :, :, tf.newaxis]\n",
    "\n",
    "# warped_values is list of tf.Tensor for each image\n",
    "warp_variables = []\n",
    "warp_values = []\n",
    "\n",
    "# Rotation.\n",
    "warp_variables += image_a.get_list_from_variable_dict(\"rotation\")\n",
    "warp_values += [control_point_utils.project_rotation_on_control_points(\n",
    "  image_a.control_points, center_point, image_a.get_list_from_variable_dict(\"rotation\")[0])]\n",
    "\n",
    "# Translation.\n",
    "warp_variables += image_a.get_list_from_variable_dict(\"translation\")\n",
    "warp_values += [image_a.get_list_from_variable_dict(\"translation\")[0][tf.newaxis, :]]\n",
    "\n",
    "\n",
    "warp_values_ = [var[tf.newaxis, :, :] for var in warp_values]\n",
    "\n",
    "displacement_vectors = tf.zeros_like(image_a.control_points)\n",
    "for warp_list in warp_values:\n",
    "    displacement_vectors = displacement_vectors + warp_list\n",
    "\n",
    "warped_image, dense_warp = warp.sparse_warp(image, image_a.control_points, warp_values_, 1.)\n",
    "\n",
    "plt.figure(figsize=(20,10))\n",
    "plot_displacement_vectors(image_a.control_points, \n",
    "                          displacement_vectors.numpy(),\n",
    "                          [image_a.image.numpy(), warped_image[0, :, :, 0].numpy()])\n",
    "\n"
   ]
  },
  {
   "cell_type": "code",
   "execution_count": null,
   "metadata": {},
   "outputs": [],
   "source": [
    "image_a.get_list_from_variable_dict(\"non_rigid\")"
   ]
  },
  {
   "cell_type": "code",
   "execution_count": null,
   "metadata": {
    "scrolled": true
   },
   "outputs": [],
   "source": [
    "\n",
    "# Register\n",
    "\n",
    "global_step = tfe.Variable(0)\n",
    "\n",
    "optimizer = tf.train.AdamOptimizer(learning_rate=learning_rate,\n",
    "                                   beta1=beta,\n",
    "                                   beta2=beta_2,\n",
    "                                   )\n",
    "\n",
    "time_start = time.time()\n",
    "\n",
    "for step in range(num_steps):\n",
    "    \n",
    "  with tfe.GradientTape(persistent=True) as tape:\n",
    "    scale = 4.\n",
    "\n",
    "    # random selection of query points\n",
    "    # TODO(noah) Select points from overlap of images in eif\n",
    "\n",
    "    num_query_points = 1000\n",
    "    query_points = tf.concat(\n",
    "      [tf.random_uniform([1, num_query_points, 1], 0, 600),\n",
    "       tf.random_uniform([1, num_query_points, 1], 0, 600)], -1)\n",
    "\n",
    "    # warped_values is list of tf.Tensor for each image\n",
    "    warp_variables = []\n",
    "    warp_values = []\n",
    "    \n",
    "    # Rotation.\n",
    "#     warp_variables += image_a.get_list_from_variable_dict(\"rotation\")\n",
    "    warp_values += [control_point_utils.project_rotation_on_control_points(\n",
    "      image_a.control_points, center_point, image_a.get_list_from_variable_dict(\"rotation\")[0]\n",
    "    )]\n",
    "    \n",
    "    # Non Rigid\n",
    "    warp_variables += image_a.get_list_from_variable_dict(\"non_rigid\")\n",
    "    warp_values += image_a.get_list_from_variable_dict(\"non_rigid\")\n",
    "    \n",
    "    # Translation.\n",
    "#     warp_variables += image_a.get_list_from_variable_dict(\"translation\")\n",
    "    warp_values += [image_a.get_list_from_variable_dict(\"translation\")[0][tf.newaxis, :]]\n",
    "\n",
    "    \n",
    "    image = image_a.image[tf.newaxis, :, :, tf.newaxis]\n",
    "    warp_values = [var[tf.newaxis, :, :] for var in warp_values]\n",
    "\n",
    "    warped_values = warp.get_warp_values(\n",
    "      image,\n",
    "      query_points,\n",
    "      image_a.control_points[tf.newaxis, :, :],\n",
    "      warp_values,\n",
    "      scale,\n",
    "    )\n",
    "\n",
    "    image = image_b.image[tf.newaxis, :, :, tf.newaxis]\n",
    "    warp_values = []\n",
    "\n",
    "    truth_vals = warp.get_warp_values(\n",
    "      image,\n",
    "      query_points,\n",
    "      image_b.control_points[tf.newaxis, :, :],\n",
    "      warp_values,\n",
    "      scale,\n",
    "    )\n",
    "    \n",
    "    mse_loss = loss_utils.masked_mse([warped_values, truth_vals])\n",
    "    \n",
    "#     warp_loss = loss_utils.warp_loss(tf.reshape(image_a.get_list_from_variable_dict(\"non_rigid\"), [1, 3, 3, 2]), 1)\n",
    "\n",
    "    total_loss = warp_loss + mse_loss\n",
    "    \n",
    "  grads = tape.gradient(total_loss, warp_variables)    \n",
    "    \n",
    "  optimizer.apply_gradients(\n",
    "    zip(grads, warp_variables),\n",
    "    global_step=global_step)\n",
    "\n",
    "  del tape\n",
    "\n",
    "time_end = time.time()\n",
    "\n",
    "print(\"runtime {}\".format(time_end - time_start))\n"
   ]
  },
  {
   "cell_type": "code",
   "execution_count": null,
   "metadata": {},
   "outputs": [],
   "source": [
    "image_a.get_list_from_variable_dict(\"non_rigid\")"
   ]
  },
  {
   "cell_type": "code",
   "execution_count": null,
   "metadata": {
    "scrolled": true
   },
   "outputs": [],
   "source": [
    "image = image_a.image[tf.newaxis, :, :, tf.newaxis]\n",
    "control_points = image_a.control_points[tf.newaxis, :, :]\n",
    "\n",
    "\n",
    "# warped_values is list of tf.Tensor for each image\n",
    "warp_variables = []\n",
    "warp_values =[]\n",
    "\n",
    "# Rotation.\n",
    "warp_values += [control_point_utils.project_rotation_on_control_points(\n",
    "  image_a.control_points, center_point, image_a.get_list_from_variable_dict(\"rotation\")[0])]\n",
    "\n",
    "# Translation.\n",
    "warp_values += [image_a.get_list_from_variable_dict(\"translation\")[0][tf.newaxis, :]]\n",
    "\n",
    "# Non-rigid\n",
    "warp_values += image_a.get_list_from_variable_dict(\"non_rigid\")\n",
    "\n",
    "warp_values = [var[tf.newaxis, :, :] for var in warp_values]\n",
    "\n",
    "warped_image, dense_warp = warp.sparse_warp(image, control_points, warp_values, 1.)\n",
    "\n",
    "initial_image, _ = warp.sparse_warp(image, control_points, warp_values[:-1], 1.)\n",
    "\n",
    "\n",
    "# fig, ax = plt.subplots(1,2, figsize=(15,15))\n",
    "# ax[0].imshow(image_a.image)\n",
    "# ax[1].imshow(warped_image[0, :, :, 0])\n",
    "\n",
    "\n",
    "fig, ax = plt.subplots(2,2, figsize=(15,15))\n",
    "plot_displacement_vectors(image_a.control_points, \n",
    "                          image_a.get_list_from_variable_dict(\"translation\")[0][tf.newaxis, :],\n",
    "                          [image_a.image.numpy(), warped_image[0, :, :, 0].numpy()], ax[0, 0])\n",
    "ax[0, 1].imshow(visualization_utils.multiple_intensity_to_rgb(initial_image[0, :, :, 0].numpy(), \n",
    "                                                              warped_image[0, :, :, 0].numpy()))\n",
    "ax[1, 0].imshow(visualization_utils.multiple_intensity_to_rgb(image_b.image.numpy(), initial_image[0, :, :, 0].numpy()))\n",
    "ax[1, 1].imshow(visualization_utils.multiple_intensity_to_rgb(image_b.image.numpy(), warped_image[0, :, :, 0].numpy()))\n",
    "fig.savefig(os.path.join(save_dir, \"warped_image\"))\n"
   ]
  },
  {
   "cell_type": "code",
   "execution_count": null,
   "metadata": {},
   "outputs": [],
   "source": [
    "image_a.control_points.numpy()"
   ]
  },
  {
   "cell_type": "code",
   "execution_count": null,
   "metadata": {},
   "outputs": [],
   "source": [
    "image_a.control_points.numpy()[:,1]\n"
   ]
  },
  {
   "cell_type": "code",
   "execution_count": null,
   "metadata": {},
   "outputs": [],
   "source": [
    "def plot_displacement_vectors(\n",
    "    control_points,\n",
    "    displacement_vector,\n",
    "    images = None,\n",
    "    axes = None,):\n",
    "    \"\"\"Plots a vector field given control points and displacement vectors.\n",
    "    \n",
    "    The displacement vector measures the displacement of a point from the old image point to the grid point.\n",
    "    \n",
    "    Args:\n",
    "        control_points: Array of shape [N, 2]\n",
    "        displacement_vector: Array of shape [N, 2]\n",
    "        image: Optional List of image arrays of shape [H, W] to display behind vector field. \n",
    "        axes: Axes on which to plot.\n",
    "    \"\"\"\n",
    "    \n",
    "    X = control_points[:,0]\n",
    "    Y = control_points[:,1]\n",
    "    \n",
    "    U = displacement_vector[:,0]\n",
    "    V = displacement_vector[:,1]\n",
    "    \n",
    "    if axes is not None:\n",
    "        if image is not None:\n",
    "            axes.imshow(visualization_utils.multiple_intensity_to_rgb(*images))\n",
    "        axes.quiver(Y, X, V, U, angles='xy', pivot='tip', color = 'r')\n",
    "\n",
    "    else:\n",
    "        if image is not None:\n",
    "            plt.imshow(visualization_utils.multiple_intensity_to_rgb(*images))\n",
    "        plt.quiver(Y, X, V, U, angles='xy', pivot='tip', color = 'r')\n",
    "\n",
    "    "
   ]
  },
  {
   "cell_type": "code",
   "execution_count": null,
   "metadata": {},
   "outputs": [],
   "source": [
    "plot_displacement_vectors(image_a.control_points.numpy(), control_point_utils.project_rotation_on_control_points(\n",
    "  image_a.control_points, center_point, 90), image_a.image.numpy())"
   ]
  },
  {
   "cell_type": "code",
   "execution_count": null,
   "metadata": {},
   "outputs": [],
   "source": []
  }
 ],
 "metadata": {
  "kernelspec": {
   "display_name": "Python 3",
   "language": "python",
   "name": "python3"
  },
  "language_info": {
   "codemirror_mode": {
    "name": "ipython",
    "version": 3
   },
   "file_extension": ".py",
   "mimetype": "text/x-python",
   "name": "python",
   "nbconvert_exporter": "python",
   "pygments_lexer": "ipython3",
   "version": "3.6.6"
  }
 },
 "nbformat": 4,
 "nbformat_minor": 2
}
